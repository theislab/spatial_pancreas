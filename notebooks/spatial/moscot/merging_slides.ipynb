{
 "cells": [
  {
   "cell_type": "code",
   "execution_count": 1,
   "id": "bf836381-49a9-416f-b000-079fe690c5cd",
   "metadata": {},
   "outputs": [],
   "source": [
    "import time\n",
    "import numpy as np\n",
    "import pandas as pd\n",
    "import scanpy as sc\n",
    "import squidpy as sq\n",
    "import anndata as ad"
   ]
  },
  {
   "cell_type": "code",
   "execution_count": 26,
   "id": "8671cdf7-d60d-4788-b161-1fd740076080",
   "metadata": {},
   "outputs": [
    {
     "data": {
      "text/plain": [
       "[AnnData object with n_obs × n_vars = 108711 × 979\n",
       "     obs: 'fov', 'Area', 'AspectRatio', 'CenterX_global_px', 'CenterY_global_px', 'Width', 'Height', 'Mean.MembraneStain', 'Max.MembraneStain', 'Mean.PanCK', 'Max.PanCK', 'Mean.GCG', 'Max.GCG', 'Mean.CD3', 'Max.CD3', 'Mean.DAPI', 'Max.DAPI', 'cell_ID', 'condition', 'slide', 'n_genes_by_counts', 'log1p_n_genes_by_counts', 'total_counts', 'log1p_total_counts', 'pct_counts_in_top_50_genes', 'pct_counts_in_top_100_genes', 'pct_counts_in_top_200_genes', 'pct_counts_in_top_500_genes', 'total_counts_NegPrb', 'log1p_total_counts_NegPrb', 'pct_counts_NegPrb', 'n_genes', 'cell_type_coarse', 'CellTypes_max'\n",
       "     uns: 'CellTypes_max_colors', 'cell_type_coarse_colors', 'neighbors', 'pca', 'spatial', 'umap'\n",
       "     obsm: 'X_pca', 'X_umap', 'spatial', 'spatial_fov'\n",
       "     layers: 'counts',\n",
       " AnnData object with n_obs × n_vars = 126421 × 979\n",
       "     obs: 'fov', 'Area', 'AspectRatio', 'CenterX_global_px', 'CenterY_global_px', 'Width', 'Height', 'Mean.MembraneStain', 'Max.MembraneStain', 'Mean.PanCK', 'Max.PanCK', 'Mean.GCG', 'Max.GCG', 'Mean.CD3', 'Max.CD3', 'Mean.DAPI', 'Max.DAPI', 'cell_ID', 'condition', 'slide', 'n_genes_by_counts', 'log1p_n_genes_by_counts', 'total_counts', 'log1p_total_counts', 'pct_counts_in_top_50_genes', 'pct_counts_in_top_100_genes', 'pct_counts_in_top_200_genes', 'pct_counts_in_top_500_genes', 'total_counts_NegPrb', 'log1p_total_counts_NegPrb', 'pct_counts_NegPrb', 'n_genes', 'cell_type_coarse', 'CellTypes_max'\n",
       "     uns: 'CellTypes_max_colors', 'cell_type_coarse_colors', 'neighbors', 'pca', 'spatial', 'umap'\n",
       "     obsm: 'X_pca', 'X_umap', 'spatial', 'spatial_fov'\n",
       "     layers: 'counts',\n",
       " AnnData object with n_obs × n_vars = 151595 × 979\n",
       "     obs: 'fov', 'Area', 'AspectRatio', 'CenterX_global_px', 'CenterY_global_px', 'Width', 'Height', 'Mean.MembraneStain', 'Max.MembraneStain', 'Mean.PanCK', 'Max.PanCK', 'Mean.GCG', 'Max.GCG', 'Mean.CD3', 'Max.CD3', 'Mean.DAPI', 'Max.DAPI', 'cell_ID', 'condition', 'slide', 'n_genes_by_counts', 'log1p_n_genes_by_counts', 'total_counts', 'log1p_total_counts', 'pct_counts_in_top_50_genes', 'pct_counts_in_top_100_genes', 'pct_counts_in_top_200_genes', 'pct_counts_in_top_500_genes', 'total_counts_NegPrb', 'log1p_total_counts_NegPrb', 'pct_counts_NegPrb', 'n_genes', 'cell_type_coarse', 'CellTypes_max'\n",
       "     uns: 'CellTypes_max_colors', 'cell_type_coarse_colors', 'neighbors', 'pca', 'spatial', 'umap'\n",
       "     obsm: 'X_pca', 'X_umap', 'spatial', 'spatial_fov'\n",
       "     layers: 'counts']"
      ]
     },
     "execution_count": 26,
     "metadata": {},
     "output_type": "execute_result"
    }
   ],
   "source": [
    "folder = '/lustre/groups/ml01/workspace/sara.jimenez/spatial_pancreas_data/preprocessed_data/data4downstream/'\n",
    "adatas = []\n",
    "for i in range(3):\n",
    "    file = i+1\n",
    "    name = 'S'+str(file)+'_npod_annotation_filtered.h5ad'\n",
    "    adata = sc.read(folder + name)\n",
    "    adatas.append(adata)\n",
    "    del adata\n",
    "adatas"
   ]
  },
  {
   "cell_type": "code",
   "execution_count": 27,
   "id": "c3994c8a-f7d1-47a9-9dd5-4e9c65011256",
   "metadata": {},
   "outputs": [
    {
     "data": {
      "text/plain": [
       "Index(['1', '2', '3', '4', '5', '6', '7', '8', '9', '10', '11', '12', '13',\n",
       "       '14', '15', '16', '17', '18', '19', '20', '21', '22', '23', '24'],\n",
       "      dtype='object')"
      ]
     },
     "execution_count": 27,
     "metadata": {},
     "output_type": "execute_result"
    }
   ],
   "source": [
    "adatas[0].obs['fov'].cat.categories"
   ]
  },
  {
   "cell_type": "code",
   "execution_count": 28,
   "id": "f093f407-02b7-451e-ab69-2c50bb8d9ba0",
   "metadata": {},
   "outputs": [
    {
     "data": {
      "text/plain": [
       "Index(['1', '2', '3', '4', '5', '6', '7', '8', '9', '10', '11', '12', '13',\n",
       "       '14', '15', '16', '17', '18', '19', '20', '21', '22'],\n",
       "      dtype='object')"
      ]
     },
     "execution_count": 28,
     "metadata": {},
     "output_type": "execute_result"
    }
   ],
   "source": [
    "adatas[1].obs['fov'].cat.categories"
   ]
  },
  {
   "cell_type": "code",
   "execution_count": 29,
   "id": "a66dffc1-bea7-4c0a-9b1a-e844900bcf14",
   "metadata": {},
   "outputs": [
    {
     "data": {
      "text/plain": [
       "Index(['1', '2', '3', '4', '5', '6', '7', '8', '9', '10', '11', '12', '13',\n",
       "       '14', '15', '16', '17', '18', '19', '20', '21', '22', '23', '24', '25'],\n",
       "      dtype='object')"
      ]
     },
     "execution_count": 29,
     "metadata": {},
     "output_type": "execute_result"
    }
   ],
   "source": [
    "adatas[2].obs['fov'].cat.categories"
   ]
  },
  {
   "cell_type": "code",
   "execution_count": 30,
   "id": "148e763e-fa33-49a5-923b-439c7203ec75",
   "metadata": {},
   "outputs": [],
   "source": [
    "# 1. Convert the categorical values to string format and append '_s1'\n",
    "adatas[0].obs['fov'] = adatas[0].obs['fov'].astype(str) + '_s1'"
   ]
  },
  {
   "cell_type": "code",
   "execution_count": 31,
   "id": "685e0a82-9f2f-41b3-bf36-6f5ae3d0b161",
   "metadata": {},
   "outputs": [],
   "source": [
    "adatas[1].obs['fov'] = adatas[1].obs['fov'].astype(str) + '_s2'"
   ]
  },
  {
   "cell_type": "code",
   "execution_count": 32,
   "id": "684fcda5-4b75-473c-832b-0b86a4041f70",
   "metadata": {},
   "outputs": [],
   "source": [
    "adatas[2].obs['fov'] = adatas[2].obs['fov'].astype(str) + '_s3'"
   ]
  },
  {
   "cell_type": "code",
   "execution_count": 33,
   "id": "5d2ddc98-c2c8-4154-99df-24defe9c9f0a",
   "metadata": {},
   "outputs": [
    {
     "data": {
      "text/plain": [
       "1_1         1_s2\n",
       "2_1         1_s2\n",
       "3_1         1_s2\n",
       "4_1         1_s2\n",
       "5_1         1_s2\n",
       "           ...  \n",
       "6691_22    22_s2\n",
       "6692_22    22_s2\n",
       "6693_22    22_s2\n",
       "6694_22    22_s2\n",
       "6695_22    22_s2\n",
       "Name: fov, Length: 126421, dtype: object"
      ]
     },
     "execution_count": 33,
     "metadata": {},
     "output_type": "execute_result"
    }
   ],
   "source": [
    "adatas[1].obs['fov']"
   ]
  },
  {
   "cell_type": "code",
   "execution_count": 35,
   "id": "32a7b407-8f03-42b7-b556-37b646be9743",
   "metadata": {},
   "outputs": [
    {
     "name": "stderr",
     "output_type": "stream",
     "text": [
      "/home/aih/sara.jimenez/miniconda3/envs/moscot_v2/lib/python3.9/site-packages/anndata/_core/anndata.py:1818: UserWarning: Observation names are not unique. To make them unique, call `.obs_names_make_unique`.\n",
      "  utils.warn_names_duplicates(\"obs\")\n"
     ]
    },
    {
     "data": {
      "text/plain": [
       "AnnData object with n_obs × n_vars = 386727 × 979\n",
       "    obs: 'fov', 'Area', 'AspectRatio', 'CenterX_global_px', 'CenterY_global_px', 'Width', 'Height', 'Mean.MembraneStain', 'Max.MembraneStain', 'Mean.PanCK', 'Max.PanCK', 'Mean.GCG', 'Max.GCG', 'Mean.CD3', 'Max.CD3', 'Mean.DAPI', 'Max.DAPI', 'cell_ID', 'condition', 'slide', 'n_genes_by_counts', 'log1p_n_genes_by_counts', 'total_counts', 'log1p_total_counts', 'pct_counts_in_top_50_genes', 'pct_counts_in_top_100_genes', 'pct_counts_in_top_200_genes', 'pct_counts_in_top_500_genes', 'total_counts_NegPrb', 'log1p_total_counts_NegPrb', 'pct_counts_NegPrb', 'n_genes', 'cell_type_coarse', 'CellTypes_max'\n",
       "    uns: 'CellTypes_max_colors', 'cell_type_coarse_colors', 'neighbors', 'pca', 'spatial'\n",
       "    obsm: 'X_pca', 'X_umap', 'spatial', 'spatial_fov'\n",
       "    layers: 'counts'"
      ]
     },
     "execution_count": 35,
     "metadata": {},
     "output_type": "execute_result"
    }
   ],
   "source": [
    "import anndata as ad\n",
    "adata  = ad.concat(adatas, join='outer',uns_merge='same',axis=0)\n",
    "adata"
   ]
  },
  {
   "cell_type": "code",
   "execution_count": 37,
   "id": "442e0fc8-0b95-470c-9852-8df2a64eac84",
   "metadata": {},
   "outputs": [
    {
     "data": {
      "text/plain": [
       "Index(['Run5211_S1', 'Run5211_S2', 'Run5211_S3'], dtype='object')"
      ]
     },
     "execution_count": 37,
     "metadata": {},
     "output_type": "execute_result"
    }
   ],
   "source": [
    "adata.obs.slide.cat.categories"
   ]
  },
  {
   "cell_type": "code",
   "execution_count": 38,
   "id": "f1251adf-0a84-48a5-91db-d95595754d5d",
   "metadata": {},
   "outputs": [],
   "source": [
    "folder = '/lustre/groups/ml01/workspace/sara.jimenez/spatial_pancreas_data/preprocessed_data/data4downstream/'\n",
    "adata.write(folder+'merged_slides_npod_annotation_filtered.h5ad')"
   ]
  },
  {
   "cell_type": "code",
   "execution_count": 43,
   "id": "a9e05953-e489-4bac-a7c7-39560f1ae96d",
   "metadata": {},
   "outputs": [
    {
     "data": {
      "text/plain": [
       "(386727, 2)"
      ]
     },
     "execution_count": 43,
     "metadata": {},
     "output_type": "execute_result"
    }
   ],
   "source": [
    "adata.obsm['spatial_fov'].shape"
   ]
  },
  {
   "cell_type": "code",
   "execution_count": null,
   "id": "24baf788-60e4-4a16-a3d5-8cd9d5477863",
   "metadata": {},
   "outputs": [],
   "source": []
  }
 ],
 "metadata": {
  "kernelspec": {
   "display_name": "Python 3 (ipykernel)",
   "language": "python",
   "name": "python3"
  },
  "language_info": {
   "codemirror_mode": {
    "name": "ipython",
    "version": 3
   },
   "file_extension": ".py",
   "mimetype": "text/x-python",
   "name": "python",
   "nbconvert_exporter": "python",
   "pygments_lexer": "ipython3",
   "version": "3.9.19"
  }
 },
 "nbformat": 4,
 "nbformat_minor": 5
}
