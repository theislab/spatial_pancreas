{
 "cells": [
  {
   "cell_type": "code",
   "execution_count": 1,
   "id": "c4fbe6c9-f766-48ab-ba9f-587587bbc20e",
   "metadata": {},
   "outputs": [],
   "source": [
    "import pandas as pd\n",
    "import numpy as np\n",
    "import anndata as ann\n",
    "import scanpy as sc\n",
    "import squidpy as sq"
   ]
  },
  {
   "cell_type": "code",
   "execution_count": 2,
   "id": "fb8c0700-7f7f-4dee-a1d6-8cf9981f16a7",
   "metadata": {},
   "outputs": [
    {
     "name": "stderr",
     "output_type": "stream",
     "text": [
      "/home/aih/sara.jimenez/miniconda3/envs/spatial_v2/lib/python3.9/site-packages/anndata/__init__.py:51: FutureWarning: `anndata.read` is deprecated, use `anndata.read_h5ad` instead. `ad.read` will be removed in mid 2024.\n",
      "  warnings.warn(\n",
      "/home/aih/sara.jimenez/miniconda3/envs/spatial_v2/lib/python3.9/site-packages/anndata/__init__.py:51: FutureWarning: `anndata.read` is deprecated, use `anndata.read_h5ad` instead. `ad.read` will be removed in mid 2024.\n",
      "  warnings.warn(\n",
      "/home/aih/sara.jimenez/miniconda3/envs/spatial_v2/lib/python3.9/site-packages/anndata/__init__.py:51: FutureWarning: `anndata.read` is deprecated, use `anndata.read_h5ad` instead. `ad.read` will be removed in mid 2024.\n",
      "  warnings.warn(\n"
     ]
    }
   ],
   "source": [
    "folder = '/lustre/groups/ml01/workspace/sara.jimenez/spatial_pancreas_data/preprocessed_data/data4downstream/'\n",
    "S1 = sc.read(folder+'S1_npod_annotation_filtered.h5ad')\n",
    "S2 = sc.read(folder+'S2_npod_annotation_filtered.h5ad')\n",
    "S3 = sc.read(folder+'S3_npod_annotation_filtered.h5ad')"
   ]
  },
  {
   "cell_type": "code",
   "execution_count": 3,
   "id": "9bedb205-8b39-4823-a04e-6b49360f1f1f",
   "metadata": {},
   "outputs": [
    {
     "name": "stderr",
     "output_type": "stream",
     "text": [
      "/home/aih/sara.jimenez/miniconda3/envs/spatial_v2/lib/python3.9/site-packages/anndata/_core/anndata.py:1906: UserWarning: Observation names are not unique. To make them unique, call `.obs_names_make_unique`.\n",
      "  utils.warn_names_duplicates(\"obs\")\n"
     ]
    },
    {
     "data": {
      "text/plain": [
       "AnnData object with n_obs × n_vars = 386727 × 979\n",
       "    obs: 'fov', 'Area', 'AspectRatio', 'CenterX_global_px', 'CenterY_global_px', 'Width', 'Height', 'Mean.MembraneStain', 'Max.MembraneStain', 'Mean.PanCK', 'Max.PanCK', 'Mean.GCG', 'Max.GCG', 'Mean.CD3', 'Max.CD3', 'Mean.DAPI', 'Max.DAPI', 'cell_ID', 'condition', 'slide', 'n_genes_by_counts', 'log1p_n_genes_by_counts', 'total_counts', 'log1p_total_counts', 'pct_counts_in_top_50_genes', 'pct_counts_in_top_100_genes', 'pct_counts_in_top_200_genes', 'pct_counts_in_top_500_genes', 'total_counts_NegPrb', 'log1p_total_counts_NegPrb', 'pct_counts_NegPrb', 'n_genes', 'cell_type_coarse', 'CellTypes_max'\n",
       "    obsm: 'X_pca', 'X_umap', 'spatial', 'spatial_fov'\n",
       "    layers: 'counts'"
      ]
     },
     "execution_count": 3,
     "metadata": {},
     "output_type": "execute_result"
    }
   ],
   "source": [
    "adata = sc.concat([S1,S2,S3])\n",
    "adata"
   ]
  },
  {
   "cell_type": "code",
   "execution_count": 4,
   "id": "85369597-0302-4659-ab96-d9f98eb8bd33",
   "metadata": {},
   "outputs": [
    {
     "data": {
      "text/plain": [
       "AnnData object with n_obs × n_vars = 386727 × 979\n",
       "    obs: 'fov', 'Area', 'AspectRatio', 'CenterX_global_px', 'CenterY_global_px', 'Width', 'Height', 'Mean.MembraneStain', 'Max.MembraneStain', 'Mean.PanCK', 'Max.PanCK', 'Mean.GCG', 'Max.GCG', 'Mean.CD3', 'Max.CD3', 'Mean.DAPI', 'Max.DAPI', 'cell_ID', 'condition', 'slide', 'n_genes_by_counts', 'log1p_n_genes_by_counts', 'total_counts', 'log1p_total_counts', 'pct_counts_in_top_50_genes', 'pct_counts_in_top_100_genes', 'pct_counts_in_top_200_genes', 'pct_counts_in_top_500_genes', 'total_counts_NegPrb', 'log1p_total_counts_NegPrb', 'pct_counts_NegPrb', 'n_genes', 'cell_type_coarse', 'CellTypes_max', 'donor', 'sample'\n",
       "    obsm: 'X_pca', 'X_umap', 'spatial', 'spatial_fov'\n",
       "    layers: 'counts'"
      ]
     },
     "execution_count": 4,
     "metadata": {},
     "output_type": "execute_result"
    }
   ],
   "source": [
    "adata.obs['donor'] = adata.obs[['condition', 'slide']].apply(lambda row: f'{row[\"condition\"]}_{row[\"slide\"]}', axis=1)\n",
    "adata.obs['sample'] = adata.obs[['condition', 'slide', 'fov']].apply(lambda row: f'{row[\"condition\"]}_{row[\"slide\"]}_{row[\"fov\"]}', axis=1)\n",
    "adata"
   ]
  },
  {
   "cell_type": "code",
   "execution_count": 5,
   "id": "eb37c46e-e83e-4367-8a15-734dd8cdc0a7",
   "metadata": {},
   "outputs": [],
   "source": [
    "# Step 1: Extract conditions and cell types\n",
    "conditions = adata.obs['condition']\n",
    "cell_types = adata.obs['CellTypes_max']"
   ]
  },
  {
   "cell_type": "code",
   "execution_count": 22,
   "id": "faad9f25-8261-440d-9353-bad469820851",
   "metadata": {},
   "outputs": [
    {
     "name": "stderr",
     "output_type": "stream",
     "text": [
      "/tmp/ipykernel_2942651/3009229347.py:2: FutureWarning: The default of observed=False is deprecated and will be changed to True in a future version of pandas. Pass observed=False to retain current behavior or observed=True to adopt the future default and silence this warning.\n",
      "  counts = adata.obs.groupby(['condition', 'CellTypes_max']).size().unstack(fill_value=0)\n"
     ]
    }
   ],
   "source": [
    "# Step 2: Calculate counts for each condition\n",
    "counts = adata.obs.groupby(['condition', 'CellTypes_max']).size().unstack(fill_value=0)\n",
    "\n",
    "# Split counts by conditions\n",
    "condition1 = counts.loc['ND']  # Replace with your actual condition names\n",
    "condition2 = counts.loc['T1D']"
   ]
  },
  {
   "cell_type": "code",
   "execution_count": 23,
   "id": "e515cc65-ff40-4c92-8132-4f01da8a9174",
   "metadata": {},
   "outputs": [
    {
     "data": {
      "text/html": [
       "<div>\n",
       "<style scoped>\n",
       "    .dataframe tbody tr th:only-of-type {\n",
       "        vertical-align: middle;\n",
       "    }\n",
       "\n",
       "    .dataframe tbody tr th {\n",
       "        vertical-align: top;\n",
       "    }\n",
       "\n",
       "    .dataframe thead th {\n",
       "        text-align: right;\n",
       "    }\n",
       "</style>\n",
       "<table border=\"1\" class=\"dataframe\">\n",
       "  <thead>\n",
       "    <tr style=\"text-align: right;\">\n",
       "      <th>CellTypes_max</th>\n",
       "      <th>Acinar_basal</th>\n",
       "      <th>Acinar_highEnz</th>\n",
       "      <th>Acinar_sigdiff</th>\n",
       "      <th>Acinar_signal</th>\n",
       "      <th>Activated_Stellate</th>\n",
       "      <th>Alpha</th>\n",
       "      <th>Beta</th>\n",
       "      <th>Delta</th>\n",
       "      <th>Ductal</th>\n",
       "      <th>Endothelial</th>\n",
       "      <th>MUC5b_Ductal</th>\n",
       "      <th>Macrophage</th>\n",
       "      <th>Quiescent_Stellate</th>\n",
       "      <th>Tcells</th>\n",
       "    </tr>\n",
       "    <tr>\n",
       "      <th>condition</th>\n",
       "      <th></th>\n",
       "      <th></th>\n",
       "      <th></th>\n",
       "      <th></th>\n",
       "      <th></th>\n",
       "      <th></th>\n",
       "      <th></th>\n",
       "      <th></th>\n",
       "      <th></th>\n",
       "      <th></th>\n",
       "      <th></th>\n",
       "      <th></th>\n",
       "      <th></th>\n",
       "      <th></th>\n",
       "    </tr>\n",
       "  </thead>\n",
       "  <tbody>\n",
       "    <tr>\n",
       "      <th>ND</th>\n",
       "      <td>16088</td>\n",
       "      <td>27414</td>\n",
       "      <td>27579</td>\n",
       "      <td>13944</td>\n",
       "      <td>7395</td>\n",
       "      <td>8789</td>\n",
       "      <td>7557</td>\n",
       "      <td>3246</td>\n",
       "      <td>21953</td>\n",
       "      <td>7005</td>\n",
       "      <td>4340</td>\n",
       "      <td>5591</td>\n",
       "      <td>6493</td>\n",
       "      <td>4045</td>\n",
       "    </tr>\n",
       "    <tr>\n",
       "      <th>T1D</th>\n",
       "      <td>17416</td>\n",
       "      <td>38041</td>\n",
       "      <td>42974</td>\n",
       "      <td>18322</td>\n",
       "      <td>9817</td>\n",
       "      <td>10014</td>\n",
       "      <td>6754</td>\n",
       "      <td>4046</td>\n",
       "      <td>34525</td>\n",
       "      <td>10163</td>\n",
       "      <td>6307</td>\n",
       "      <td>11875</td>\n",
       "      <td>8557</td>\n",
       "      <td>6477</td>\n",
       "    </tr>\n",
       "  </tbody>\n",
       "</table>\n",
       "</div>"
      ],
      "text/plain": [
       "CellTypes_max  Acinar_basal  Acinar_highEnz  Acinar_sigdiff  Acinar_signal  \\\n",
       "condition                                                                    \n",
       "ND                    16088           27414           27579          13944   \n",
       "T1D                   17416           38041           42974          18322   \n",
       "\n",
       "CellTypes_max  Activated_Stellate  Alpha  Beta  Delta  Ductal  Endothelial  \\\n",
       "condition                                                                    \n",
       "ND                           7395   8789  7557   3246   21953         7005   \n",
       "T1D                          9817  10014  6754   4046   34525        10163   \n",
       "\n",
       "CellTypes_max  MUC5b_Ductal  Macrophage  Quiescent_Stellate  Tcells  \n",
       "condition                                                            \n",
       "ND                     4340        5591                6493    4045  \n",
       "T1D                    6307       11875                8557    6477  "
      ]
     },
     "execution_count": 23,
     "metadata": {},
     "output_type": "execute_result"
    }
   ],
   "source": [
    "counts"
   ]
  },
  {
   "cell_type": "code",
   "execution_count": 24,
   "id": "8e00e1b4-6dd5-4244-bea4-f9f8640c856f",
   "metadata": {},
   "outputs": [
    {
     "data": {
      "text/plain": [
       "CellTypes_max\n",
       "Acinar_basal          16088\n",
       "Acinar_highEnz        27414\n",
       "Acinar_sigdiff        27579\n",
       "Acinar_signal         13944\n",
       "Activated_Stellate     7395\n",
       "Alpha                  8789\n",
       "Beta                   7557\n",
       "Delta                  3246\n",
       "Ductal                21953\n",
       "Endothelial            7005\n",
       "MUC5b_Ductal           4340\n",
       "Macrophage             5591\n",
       "Quiescent_Stellate     6493\n",
       "Tcells                 4045\n",
       "Name: ND, dtype: int64"
      ]
     },
     "execution_count": 24,
     "metadata": {},
     "output_type": "execute_result"
    }
   ],
   "source": [
    "condition1"
   ]
  },
  {
   "cell_type": "code",
   "execution_count": 25,
   "id": "a8a9cf00-d6d6-4449-b239-48d19d4d42fc",
   "metadata": {},
   "outputs": [
    {
     "name": "stdout",
     "output_type": "stream",
     "text": [
      "                   odds_ratio   p_value\n",
      "CellTypes_max                          \n",
      "Acinar_basal         1.321088       0.0\n",
      "Acinar_highEnz       1.006815  0.436391\n",
      "Acinar_sigdiff       0.874061       0.0\n",
      "Acinar_signal        1.067914       0.0\n",
      "Activated_Stellate   1.053667  0.000924\n",
      "Alpha                1.237732       0.0\n",
      "Beta                 1.588984       0.0\n",
      "Delta                1.122026  0.000001\n",
      "Ductal               0.869608       0.0\n",
      "Endothelial          0.960139  0.010561\n",
      "MUC5b_Ductal          0.95918  0.037292\n",
      "Macrophage           0.644726       0.0\n",
      "Quiescent_Stellate   1.061364  0.000399\n",
      "Tcells               0.868212       0.0\n"
     ]
    }
   ],
   "source": [
    "# Step 3: Perform Fisher’s exact test\n",
    "fisher_results = pd.DataFrame(index=counts.columns, columns=['odds_ratio', 'p_value'])\n",
    "\n",
    "for cell_type in counts.columns:\n",
    "    # Create a 2x2 contingency table\n",
    "    table = [\n",
    "        [condition1[cell_type], condition2[cell_type]],  # Present in condition1 vs condition2\n",
    "        [condition1.sum() - condition1[cell_type], condition2.sum() - condition2[cell_type]]  # Not present\n",
    "    ]\n",
    "    \n",
    "    # Perform Fisher's exact test\n",
    "    odds_ratio, p_value = stats.fisher_exact(table)\n",
    "    fisher_results.loc[cell_type] = [odds_ratio, p_value]\n",
    "\n",
    "print(fisher_results)"
   ]
  },
  {
   "cell_type": "markdown",
   "id": "fc6ed6f7-0513-40d4-b200-e524deffedbf",
   "metadata": {},
   "source": [
    "### Interpretation of the Odds Ratio:\n",
    "\n",
    "- Odds Ratio > 1: The cell type is more likely to occur in Condition 1 (ND) compared to Condition 2 (T1D).\n",
    "\n",
    "- Odds Ratio = 1: The cell type is equally likely to occur in both conditions. There is no association between the cell type and the condition.\n",
    "  \n",
    "- Odds Ratio < 1:The cell type is less likely to occur in Condition 1 (ND) compared to Condition 2 (T1D).\n"
   ]
  },
  {
   "cell_type": "code",
   "execution_count": null,
   "id": "1ec895cf-8e2b-49d3-9d19-fe908197f2b3",
   "metadata": {},
   "outputs": [],
   "source": []
  }
 ],
 "metadata": {
  "kernelspec": {
   "display_name": "Python 3 (ipykernel)",
   "language": "python",
   "name": "python3"
  },
  "language_info": {
   "codemirror_mode": {
    "name": "ipython",
    "version": 3
   },
   "file_extension": ".py",
   "mimetype": "text/x-python",
   "name": "python",
   "nbconvert_exporter": "python",
   "pygments_lexer": "ipython3",
   "version": "3.9.18"
  }
 },
 "nbformat": 4,
 "nbformat_minor": 5
}
