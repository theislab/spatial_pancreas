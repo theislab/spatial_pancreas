{
 "cells": [
  {
   "cell_type": "code",
   "execution_count": 4,
   "id": "1abdde36-d3d9-4eeb-ab9a-db094dbee7ea",
   "metadata": {},
   "outputs": [
    {
     "ename": "ModuleNotFoundError",
     "evalue": "No module named 'rpy2'",
     "output_type": "error",
     "traceback": [
      "\u001b[0;31m---------------------------------------------------------------------------\u001b[0m",
      "\u001b[0;31mModuleNotFoundError\u001b[0m                       Traceback (most recent call last)",
      "\u001b[0;32m<ipython-input-4-03f58bd70628>\u001b[0m in \u001b[0;36m<module>\u001b[0;34m\u001b[0m\n\u001b[1;32m      2\u001b[0m \u001b[0;31m#import anndata2ri\u001b[0m\u001b[0;34m\u001b[0m\u001b[0;34m\u001b[0m\u001b[0;34m\u001b[0m\u001b[0m\n\u001b[1;32m      3\u001b[0m \u001b[0;32mimport\u001b[0m \u001b[0mlogging\u001b[0m\u001b[0;34m\u001b[0m\u001b[0;34m\u001b[0m\u001b[0m\n\u001b[0;32m----> 4\u001b[0;31m \u001b[0;32mimport\u001b[0m \u001b[0mrpy2\u001b[0m\u001b[0;34m.\u001b[0m\u001b[0mrinterface_lib\u001b[0m\u001b[0;34m.\u001b[0m\u001b[0mcallbacks\u001b[0m \u001b[0;32mas\u001b[0m \u001b[0mrcb\u001b[0m\u001b[0;34m\u001b[0m\u001b[0;34m\u001b[0m\u001b[0m\n\u001b[0m\u001b[1;32m      5\u001b[0m \u001b[0;32mimport\u001b[0m \u001b[0mrpy2\u001b[0m\u001b[0;34m.\u001b[0m\u001b[0mrobjects\u001b[0m \u001b[0;32mas\u001b[0m \u001b[0mro\u001b[0m\u001b[0;34m\u001b[0m\u001b[0;34m\u001b[0m\u001b[0m\n\u001b[1;32m      6\u001b[0m \u001b[0;34m\u001b[0m\u001b[0m\n",
      "\u001b[0;31mModuleNotFoundError\u001b[0m: No module named 'rpy2'"
     ]
    }
   ],
   "source": [
    "# R packages -> for ambient RNA correction using SoupX\n",
    "#import anndata2ri\n",
    "import logging\n",
    "import rpy2.rinterface_lib.callbacks as rcb\n",
    "import rpy2.robjects as ro\n",
    "\n",
    "rcb.logger.setLevel(logging.ERROR)\n",
    "ro.pandas2ri.activate()\n",
    "anndata2ri.activate()\n",
    "\n",
    "%load_ext rpy2.ipython"
   ]
  },
  {
   "cell_type": "code",
   "execution_count": 8,
   "id": "95e95a04-bf80-4783-9cbd-fc39bb0a763e",
   "metadata": {
    "scrolled": true
   },
   "outputs": [
    {
     "name": "stderr",
     "output_type": "stream",
     "text": [
      "UsageError: Cell magic `%%R` not found.\n"
     ]
    }
   ],
   "source": [
    "library(reticulate)\n",
    "library(sceasy)\n",
    "library(Seurat)\n"
   ]
  },
  {
   "cell_type": "code",
   "execution_count": 7,
   "id": "a766ae74-2e26-4c71-9810-b5fc21cc88a3",
   "metadata": {},
   "outputs": [
    {
     "ename": "NameError",
     "evalue": "name 'getwd' is not defined",
     "output_type": "error",
     "traceback": [
      "\u001b[0;31m---------------------------------------------------------------------------\u001b[0m",
      "\u001b[0;31mNameError\u001b[0m                                 Traceback (most recent call last)",
      "\u001b[0;32m<ipython-input-7-14c78a673413>\u001b[0m in \u001b[0;36m<module>\u001b[0;34m\u001b[0m\n\u001b[0;32m----> 1\u001b[0;31m \u001b[0mgetwd\u001b[0m\u001b[0;34m(\u001b[0m\u001b[0;34m)\u001b[0m\u001b[0;34m\u001b[0m\u001b[0;34m\u001b[0m\u001b[0m\n\u001b[0m",
      "\u001b[0;31mNameError\u001b[0m: name 'getwd' is not defined"
     ]
    }
   ],
   "source": [
    "getwd()\n"
   ]
  },
  {
   "cell_type": "code",
   "execution_count": 3,
   "id": "672b34ca-bb50-4c0e-ac14-d379fbcc34b3",
   "metadata": {},
   "outputs": [],
   "source": [
    "seurat_object <- readRDS('Zenodo/pk_all.rds')"
   ]
  },
  {
   "cell_type": "code",
   "execution_count": 4,
   "id": "895b6166-4fdf-4a49-82df-1021bcfaded4",
   "metadata": {},
   "outputs": [
    {
     "data": {
      "text/plain": [
       "An object of class Seurat \n",
       "38919 features across 136163 samples within 2 assays \n",
       "Active assay: RNA (34746 features, 0 variable features)\n",
       " 2 layers present: counts, data\n",
       " 1 other assay present: integrated\n",
       " 2 dimensional reductions calculated: pca, umap"
      ]
     },
     "metadata": {},
     "output_type": "display_data"
    }
   ],
   "source": [
    "seurat_object"
   ]
  },
  {
   "cell_type": "code",
   "execution_count": 5,
   "id": "bb3b31ff-1a37-4c8c-a016-204808895c63",
   "metadata": {},
   "outputs": [
    {
     "data": {
      "text/plain": [
       "AnnData object with n_obs × n_vars = 136163 × 34746\n",
       "    obs: 'CELL', 'Patient', 'Type', 'Cell_type', 'celltype0', 'celltype1', 'celltype2', 'celltype3', 'Patient2', 'nCount_RNA', 'nFeature_RNA', 'Project', 'orig.ident', 'Stage', 'Grade', 'Gender', 'Age', 'Percent_mito', 'Percent_ribo', 'Percent_hemo', 'percent.mt', 'predicted.id', 'prediction.score.Fibroblast.cell', 'prediction.score.Stellate.cell', 'prediction.score.Macrophage.cell', 'prediction.score.Endothelial.cell', 'prediction.score.T.cell', 'prediction.score.B.cell', 'prediction.score.Ductal.cell.type.2', 'prediction.score.Endocrine.cell', 'prediction.score.Ductal.cell.type.1', 'prediction.score.Acinar.cell', 'prediction.score.max', 'classical_score1', 'basal_score1', 'classical_score21', 'basal_score21', 'endocrine_score_1', 'immune_score_1', 'exocrine_score_1', 'activated_stroma_score_1', 'histone_score_1', 'normal_stroma_score_1', 'olfactory_score_1', 'na_score_1'\n",
       "    var: 'name'\n",
       "    obsm: 'X_pca', 'X_umap'"
      ]
     },
     "metadata": {},
     "output_type": "display_data"
    }
   ],
   "source": [
    "sceasy::convertFormat(seurat_object, from=\"seurat\", to=\"anndata\",\n",
    "                       outFile='pk_all.h5ad')"
   ]
  },
  {
   "cell_type": "code",
   "execution_count": null,
   "id": "7c60c765-5ac7-4ae8-93ae-d9de64f3fb54",
   "metadata": {},
   "outputs": [],
   "source": [
    "#check publications for number of genes and methods\n",
    "#summary of the metadata \n",
    "#check karins mouse pancreas paper"
   ]
  },
  {
   "cell_type": "code",
   "execution_count": null,
   "id": "8a34a96a-1e4a-42df-88cb-55dee533163f",
   "metadata": {},
   "outputs": [],
   "source": []
  },
  {
   "cell_type": "code",
   "execution_count": null,
   "id": "a5c791ba-7467-49bb-ac4c-a95648a09791",
   "metadata": {},
   "outputs": [],
   "source": []
  }
 ],
 "metadata": {
  "kernelspec": {
   "display_name": "Python 3",
   "language": "python",
   "name": "python3"
  },
  "language_info": {
   "codemirror_mode": {
    "name": "ipython",
    "version": 3
   },
   "file_extension": ".py",
   "mimetype": "text/x-python",
   "name": "python",
   "nbconvert_exporter": "python",
   "pygments_lexer": "ipython3",
   "version": "3.6.8"
  }
 },
 "nbformat": 4,
 "nbformat_minor": 5
}
